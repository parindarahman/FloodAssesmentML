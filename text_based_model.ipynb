{
 "cells": [
  {
   "cell_type": "code",
   "execution_count": 1,
   "metadata": {},
   "outputs": [],
   "source": [
    "import pandas as pd\n",
    "import numpy as np\n",
    "import tensorflow as tf\n",
    "import tensorflow_hub as hub\n",
    "import tensorflow_text as text"
   ]
  },
  {
   "cell_type": "code",
   "execution_count": 2,
   "metadata": {},
   "outputs": [],
   "source": [
    "flood_df = pd.read_excel(r'D:\\NSU\\GitHub Repository\\Flood_Assessment\\model_train\\text_dataset\\flood.xlsx')\n",
    "no_flood_df = pd.read_excel(r'D:\\NSU\\GitHub Repository\\Flood_Assessment\\model_train\\text_dataset\\not_flood.xlsx')"
   ]
  },
  {
   "cell_type": "code",
   "execution_count": 3,
   "metadata": {},
   "outputs": [
    {
     "data": {
      "text/html": [
       "<div>\n",
       "<style scoped>\n",
       "    .dataframe tbody tr th:only-of-type {\n",
       "        vertical-align: middle;\n",
       "    }\n",
       "\n",
       "    .dataframe tbody tr th {\n",
       "        vertical-align: top;\n",
       "    }\n",
       "\n",
       "    .dataframe thead th {\n",
       "        text-align: right;\n",
       "    }\n",
       "</style>\n",
       "<table border=\"1\" class=\"dataframe\">\n",
       "  <thead>\n",
       "    <tr style=\"text-align: right;\">\n",
       "      <th></th>\n",
       "      <th>Keyword</th>\n",
       "      <th>Content</th>\n",
       "      <th>label</th>\n",
       "    </tr>\n",
       "  </thead>\n",
       "  <tbody>\n",
       "    <tr>\n",
       "      <th>0</th>\n",
       "      <td>Sylhet AND flood</td>\n",
       "      <td>Climate change costing poor women in Banglades...</td>\n",
       "      <td>flood</td>\n",
       "    </tr>\n",
       "    <tr>\n",
       "      <th>1</th>\n",
       "      <td>Sylhet AND flood</td>\n",
       "      <td>Sylhet flood victims in Bangladesh. \\nAll fund...</td>\n",
       "      <td>flood</td>\n",
       "    </tr>\n",
       "    <tr>\n",
       "      <th>2</th>\n",
       "      <td>Sylhet AND flood</td>\n",
       "      <td>Floods in Tahirpur,Sunamganj.\\nSylhet, Banglad...</td>\n",
       "      <td>flood</td>\n",
       "    </tr>\n",
       "    <tr>\n",
       "      <th>3</th>\n",
       "      <td>Sylhet AND flood</td>\n",
       "      <td>Behind @sadia_totini is the remnants of a road...</td>\n",
       "      <td>flood</td>\n",
       "    </tr>\n",
       "    <tr>\n",
       "      <th>4</th>\n",
       "      <td>Sylhet AND flood</td>\n",
       "      <td>Sunamganj is the land of haors (lakes). But pe...</td>\n",
       "      <td>flood</td>\n",
       "    </tr>\n",
       "  </tbody>\n",
       "</table>\n",
       "</div>"
      ],
      "text/plain": [
       "            Keyword                                            Content  label\n",
       "0  Sylhet AND flood  Climate change costing poor women in Banglades...  flood\n",
       "1  Sylhet AND flood  Sylhet flood victims in Bangladesh. \\nAll fund...  flood\n",
       "2  Sylhet AND flood  Floods in Tahirpur,Sunamganj.\\nSylhet, Banglad...  flood\n",
       "3  Sylhet AND flood  Behind @sadia_totini is the remnants of a road...  flood\n",
       "4  Sylhet AND flood  Sunamganj is the land of haors (lakes). But pe...  flood"
      ]
     },
     "execution_count": 3,
     "metadata": {},
     "output_type": "execute_result"
    }
   ],
   "source": [
    "flood_df = flood_df[['Keyword', 'Content']]\n",
    "flood_df['label'] = 'flood'\n",
    "flood_df.head(5)"
   ]
  },
  {
   "cell_type": "code",
   "execution_count": 4,
   "metadata": {},
   "outputs": [
    {
     "data": {
      "text/html": [
       "<div>\n",
       "<style scoped>\n",
       "    .dataframe tbody tr th:only-of-type {\n",
       "        vertical-align: middle;\n",
       "    }\n",
       "\n",
       "    .dataframe tbody tr th {\n",
       "        vertical-align: top;\n",
       "    }\n",
       "\n",
       "    .dataframe thead th {\n",
       "        text-align: right;\n",
       "    }\n",
       "</style>\n",
       "<table border=\"1\" class=\"dataframe\">\n",
       "  <thead>\n",
       "    <tr style=\"text-align: right;\">\n",
       "      <th></th>\n",
       "      <th>Keyword</th>\n",
       "      <th>Content</th>\n",
       "      <th>label</th>\n",
       "    </tr>\n",
       "  </thead>\n",
       "  <tbody>\n",
       "    <tr>\n",
       "      <th>0</th>\n",
       "      <td>Bangladesh AND Disaster</td>\n",
       "      <td>Heartfelt condolences for our beloved brothers...</td>\n",
       "      <td>no_flood</td>\n",
       "    </tr>\n",
       "    <tr>\n",
       "      <th>1</th>\n",
       "      <td>Bangladesh AND Disaster</td>\n",
       "      <td>\\u201cWe haven\\u2019t faced a crisis like this...</td>\n",
       "      <td>no_flood</td>\n",
       "    </tr>\n",
       "    <tr>\n",
       "      <th>2</th>\n",
       "      <td>Bangladesh AND Disaster</td>\n",
       "      <td>However, unpredictable rainstorms are increasi...</td>\n",
       "      <td>no_flood</td>\n",
       "    </tr>\n",
       "    <tr>\n",
       "      <th>3</th>\n",
       "      <td>Bangladesh AND Disaster</td>\n",
       "      <td>Keep the people of Afghanistan and Bangladesh ...</td>\n",
       "      <td>no_flood</td>\n",
       "    </tr>\n",
       "    <tr>\n",
       "      <th>4</th>\n",
       "      <td>Bangladesh AND Disaster</td>\n",
       "      <td>From all these disasters, Allah is the protect...</td>\n",
       "      <td>no_flood</td>\n",
       "    </tr>\n",
       "  </tbody>\n",
       "</table>\n",
       "</div>"
      ],
      "text/plain": [
       "                   Keyword                                            Content  \\\n",
       "0  Bangladesh AND Disaster  Heartfelt condolences for our beloved brothers...   \n",
       "1  Bangladesh AND Disaster  \\u201cWe haven\\u2019t faced a crisis like this...   \n",
       "2  Bangladesh AND Disaster  However, unpredictable rainstorms are increasi...   \n",
       "3  Bangladesh AND Disaster  Keep the people of Afghanistan and Bangladesh ...   \n",
       "4  Bangladesh AND Disaster  From all these disasters, Allah is the protect...   \n",
       "\n",
       "      label  \n",
       "0  no_flood  \n",
       "1  no_flood  \n",
       "2  no_flood  \n",
       "3  no_flood  \n",
       "4  no_flood  "
      ]
     },
     "execution_count": 4,
     "metadata": {},
     "output_type": "execute_result"
    }
   ],
   "source": [
    "no_flood_df['label'] = 'no_flood'\n",
    "no_flood_df.head(5)"
   ]
  },
  {
   "cell_type": "code",
   "execution_count": 5,
   "metadata": {},
   "outputs": [],
   "source": [
    "df = pd.concat([flood_df, no_flood_df])"
   ]
  },
  {
   "cell_type": "code",
   "execution_count": 6,
   "metadata": {},
   "outputs": [
    {
     "data": {
      "text/html": [
       "<div>\n",
       "<style scoped>\n",
       "    .dataframe tbody tr th:only-of-type {\n",
       "        vertical-align: middle;\n",
       "    }\n",
       "\n",
       "    .dataframe tbody tr th {\n",
       "        vertical-align: top;\n",
       "    }\n",
       "\n",
       "    .dataframe thead th {\n",
       "        text-align: right;\n",
       "    }\n",
       "</style>\n",
       "<table border=\"1\" class=\"dataframe\">\n",
       "  <thead>\n",
       "    <tr style=\"text-align: right;\">\n",
       "      <th></th>\n",
       "      <th>Keyword</th>\n",
       "      <th>Content</th>\n",
       "      <th>label</th>\n",
       "    </tr>\n",
       "  </thead>\n",
       "  <tbody>\n",
       "    <tr>\n",
       "      <th>0</th>\n",
       "      <td>Sylhet AND flood</td>\n",
       "      <td>Climate change costing poor women in Banglades...</td>\n",
       "      <td>flood</td>\n",
       "    </tr>\n",
       "    <tr>\n",
       "      <th>1</th>\n",
       "      <td>Sylhet AND flood</td>\n",
       "      <td>Sylhet flood victims in Bangladesh. \\nAll fund...</td>\n",
       "      <td>flood</td>\n",
       "    </tr>\n",
       "    <tr>\n",
       "      <th>2</th>\n",
       "      <td>Sylhet AND flood</td>\n",
       "      <td>Floods in Tahirpur,Sunamganj.\\nSylhet, Banglad...</td>\n",
       "      <td>flood</td>\n",
       "    </tr>\n",
       "    <tr>\n",
       "      <th>3</th>\n",
       "      <td>Sylhet AND flood</td>\n",
       "      <td>Behind @sadia_totini is the remnants of a road...</td>\n",
       "      <td>flood</td>\n",
       "    </tr>\n",
       "    <tr>\n",
       "      <th>4</th>\n",
       "      <td>Sylhet AND flood</td>\n",
       "      <td>Sunamganj is the land of haors (lakes). But pe...</td>\n",
       "      <td>flood</td>\n",
       "    </tr>\n",
       "  </tbody>\n",
       "</table>\n",
       "</div>"
      ],
      "text/plain": [
       "            Keyword                                            Content  label\n",
       "0  Sylhet AND flood  Climate change costing poor women in Banglades...  flood\n",
       "1  Sylhet AND flood  Sylhet flood victims in Bangladesh. \\nAll fund...  flood\n",
       "2  Sylhet AND flood  Floods in Tahirpur,Sunamganj.\\nSylhet, Banglad...  flood\n",
       "3  Sylhet AND flood  Behind @sadia_totini is the remnants of a road...  flood\n",
       "4  Sylhet AND flood  Sunamganj is the land of haors (lakes). But pe...  flood"
      ]
     },
     "execution_count": 6,
     "metadata": {},
     "output_type": "execute_result"
    }
   ],
   "source": [
    "df.head(5)"
   ]
  },
  {
   "cell_type": "code",
   "execution_count": 7,
   "metadata": {},
   "outputs": [
    {
     "data": {
      "text/html": [
       "<div>\n",
       "<style scoped>\n",
       "    .dataframe tbody tr th:only-of-type {\n",
       "        vertical-align: middle;\n",
       "    }\n",
       "\n",
       "    .dataframe tbody tr th {\n",
       "        vertical-align: top;\n",
       "    }\n",
       "\n",
       "    .dataframe thead tr th {\n",
       "        text-align: left;\n",
       "    }\n",
       "\n",
       "    .dataframe thead tr:last-of-type th {\n",
       "        text-align: right;\n",
       "    }\n",
       "</style>\n",
       "<table border=\"1\" class=\"dataframe\">\n",
       "  <thead>\n",
       "    <tr>\n",
       "      <th></th>\n",
       "      <th colspan=\"4\" halign=\"left\">Keyword</th>\n",
       "      <th colspan=\"4\" halign=\"left\">Content</th>\n",
       "    </tr>\n",
       "    <tr>\n",
       "      <th></th>\n",
       "      <th>count</th>\n",
       "      <th>unique</th>\n",
       "      <th>top</th>\n",
       "      <th>freq</th>\n",
       "      <th>count</th>\n",
       "      <th>unique</th>\n",
       "      <th>top</th>\n",
       "      <th>freq</th>\n",
       "    </tr>\n",
       "    <tr>\n",
       "      <th>label</th>\n",
       "      <th></th>\n",
       "      <th></th>\n",
       "      <th></th>\n",
       "      <th></th>\n",
       "      <th></th>\n",
       "      <th></th>\n",
       "      <th></th>\n",
       "      <th></th>\n",
       "    </tr>\n",
       "  </thead>\n",
       "  <tbody>\n",
       "    <tr>\n",
       "      <th>flood</th>\n",
       "      <td>244</td>\n",
       "      <td>1</td>\n",
       "      <td>Sylhet AND flood</td>\n",
       "      <td>244</td>\n",
       "      <td>167</td>\n",
       "      <td>166</td>\n",
       "      <td>We’re Drowning &amp;amp; World leaders are watchin...</td>\n",
       "      <td>2</td>\n",
       "    </tr>\n",
       "    <tr>\n",
       "      <th>no_flood</th>\n",
       "      <td>59</td>\n",
       "      <td>2</td>\n",
       "      <td>Bangladesh AND Accident</td>\n",
       "      <td>45</td>\n",
       "      <td>59</td>\n",
       "      <td>59</td>\n",
       "      <td>Heartfelt condolences for our beloved brothers...</td>\n",
       "      <td>1</td>\n",
       "    </tr>\n",
       "  </tbody>\n",
       "</table>\n",
       "</div>"
      ],
      "text/plain": [
       "         Keyword                                      Content         \\\n",
       "           count unique                      top freq   count unique   \n",
       "label                                                                  \n",
       "flood        244      1         Sylhet AND flood  244     167    166   \n",
       "no_flood      59      2  Bangladesh AND Accident   45      59     59   \n",
       "\n",
       "                                                                  \n",
       "                                                        top freq  \n",
       "label                                                             \n",
       "flood     We’re Drowning &amp; World leaders are watchin...    2  \n",
       "no_flood  Heartfelt condolences for our beloved brothers...    1  "
      ]
     },
     "execution_count": 7,
     "metadata": {},
     "output_type": "execute_result"
    }
   ],
   "source": [
    "df.groupby('label').describe()"
   ]
  },
  {
   "cell_type": "code",
   "execution_count": 8,
   "metadata": {},
   "outputs": [
    {
     "data": {
      "text/plain": [
       "array(['flood', 'no_flood'], dtype=object)"
      ]
     },
     "execution_count": 8,
     "metadata": {},
     "output_type": "execute_result"
    }
   ],
   "source": [
    "class_names = df['label'].unique()\n",
    "class_names"
   ]
  },
  {
   "cell_type": "code",
   "execution_count": 9,
   "metadata": {},
   "outputs": [
    {
     "data": {
      "text/html": [
       "<div>\n",
       "<style scoped>\n",
       "    .dataframe tbody tr th:only-of-type {\n",
       "        vertical-align: middle;\n",
       "    }\n",
       "\n",
       "    .dataframe tbody tr th {\n",
       "        vertical-align: top;\n",
       "    }\n",
       "\n",
       "    .dataframe thead th {\n",
       "        text-align: right;\n",
       "    }\n",
       "</style>\n",
       "<table border=\"1\" class=\"dataframe\">\n",
       "  <thead>\n",
       "    <tr style=\"text-align: right;\">\n",
       "      <th></th>\n",
       "      <th>label</th>\n",
       "      <th>count</th>\n",
       "    </tr>\n",
       "  </thead>\n",
       "  <tbody>\n",
       "    <tr>\n",
       "      <th>0</th>\n",
       "      <td>flood</td>\n",
       "      <td>244</td>\n",
       "    </tr>\n",
       "    <tr>\n",
       "      <th>1</th>\n",
       "      <td>no_flood</td>\n",
       "      <td>59</td>\n",
       "    </tr>\n",
       "  </tbody>\n",
       "</table>\n",
       "</div>"
      ],
      "text/plain": [
       "      label  count\n",
       "0     flood    244\n",
       "1  no_flood     59"
      ]
     },
     "execution_count": 9,
     "metadata": {},
     "output_type": "execute_result"
    }
   ],
   "source": [
    "dataset_info = pd.DataFrame(list(zip(class_names, df['label'].value_counts())), columns =['label', 'count'])\n",
    "dataset_info"
   ]
  },
  {
   "cell_type": "code",
   "execution_count": 10,
   "metadata": {},
   "outputs": [
    {
     "data": {
      "text/plain": [
       "<seaborn.axisgrid.FacetGrid at 0x117adee42b0>"
      ]
     },
     "execution_count": 10,
     "metadata": {},
     "output_type": "execute_result"
    },
    {
     "data": {
      "text/plain": [
       "<Figure size 1440x576 with 0 Axes>"
      ]
     },
     "metadata": {},
     "output_type": "display_data"
    },
    {
     "data": {
      "image/png": "[encoded data removed]",
      "text/plain": [
       "<Figure size 1080x720 with 1 Axes>"
      ]
     },
     "metadata": {
      "needs_background": "light"
     },
     "output_type": "display_data"
    }
   ],
   "source": [
    "import seaborn as sns\n",
    "import matplotlib.pyplot as plt\n",
    "\n",
    "plt.figure(figsize=(20, 8))\n",
    "\n",
    "g = sns.catplot(data=dataset_info, kind='bar', x='label', y='count', palette='Set2', height=10, aspect=1.5)\n",
    "\n",
    "plt.xticks(rotation=45)\n",
    "g.set_axis_labels('Label', 'Count')"
   ]
  },
  {
   "cell_type": "code",
   "execution_count": 11,
   "metadata": {},
   "outputs": [],
   "source": [
    "# import seaborn as sns\n",
    "# import matplotlib.pyplot as plt\n",
    "\n",
    "# plt.figure(figsize=(20, 8))\n",
    "\n",
    "# g = sns.catplot(data=dataset_info, kind='bar', x='label', y='count', hue='label', palette='Set2', height=10, aspect=1.5)\n",
    "\n",
    "# plt.xticks(rotation=45)\n",
    "# g.set_axis_labels('Label', 'Count')"
   ]
  },
  {
   "cell_type": "code",
   "execution_count": 12,
   "metadata": {},
   "outputs": [
    {
     "data": {
      "text/html": [
       "<div>\n",
       "<style scoped>\n",
       "    .dataframe tbody tr th:only-of-type {\n",
       "        vertical-align: middle;\n",
       "    }\n",
       "\n",
       "    .dataframe tbody tr th {\n",
       "        vertical-align: top;\n",
       "    }\n",
       "\n",
       "    .dataframe thead th {\n",
       "        text-align: right;\n",
       "    }\n",
       "</style>\n",
       "<table border=\"1\" class=\"dataframe\">\n",
       "  <thead>\n",
       "    <tr style=\"text-align: right;\">\n",
       "      <th></th>\n",
       "      <th>Keyword</th>\n",
       "      <th>Content</th>\n",
       "      <th>label</th>\n",
       "      <th>flood</th>\n",
       "    </tr>\n",
       "  </thead>\n",
       "  <tbody>\n",
       "    <tr>\n",
       "      <th>48</th>\n",
       "      <td>Bangladesh AND Accident</td>\n",
       "      <td>After a student from #Jammu &amp;amp; #Kashmir, wh...</td>\n",
       "      <td>no_flood</td>\n",
       "      <td>0</td>\n",
       "    </tr>\n",
       "    <tr>\n",
       "      <th>213</th>\n",
       "      <td>Sylhet AND flood</td>\n",
       "      <td>NaN</td>\n",
       "      <td>flood</td>\n",
       "      <td>1</td>\n",
       "    </tr>\n",
       "    <tr>\n",
       "      <th>25</th>\n",
       "      <td>Bangladesh AND Accident</td>\n",
       "      <td>@ACAPSproject BANGLADESH Industrial accident: ...</td>\n",
       "      <td>no_flood</td>\n",
       "      <td>0</td>\n",
       "    </tr>\n",
       "    <tr>\n",
       "      <th>206</th>\n",
       "      <td>Sylhet AND flood</td>\n",
       "      <td>Son sets dead body adrift in flooded Sylhet re...</td>\n",
       "      <td>flood</td>\n",
       "      <td>1</td>\n",
       "    </tr>\n",
       "    <tr>\n",
       "      <th>38</th>\n",
       "      <td>Bangladesh AND Accident</td>\n",
       "      <td>Thanks to @PMOIndia @narendramodi, \\n@DrSJaish...</td>\n",
       "      <td>no_flood</td>\n",
       "      <td>0</td>\n",
       "    </tr>\n",
       "  </tbody>\n",
       "</table>\n",
       "</div>"
      ],
      "text/plain": [
       "                     Keyword  \\\n",
       "48   Bangladesh AND Accident   \n",
       "213         Sylhet AND flood   \n",
       "25   Bangladesh AND Accident   \n",
       "206         Sylhet AND flood   \n",
       "38   Bangladesh AND Accident   \n",
       "\n",
       "                                               Content     label  flood  \n",
       "48   After a student from #Jammu &amp; #Kashmir, wh...  no_flood      0  \n",
       "213                                                NaN     flood      1  \n",
       "25   @ACAPSproject BANGLADESH Industrial accident: ...  no_flood      0  \n",
       "206  Son sets dead body adrift in flooded Sylhet re...     flood      1  \n",
       "38   Thanks to @PMOIndia @narendramodi, \\n@DrSJaish...  no_flood      0  "
      ]
     },
     "execution_count": 12,
     "metadata": {},
     "output_type": "execute_result"
    }
   ],
   "source": [
    "df['flood']=df['label'].apply(lambda x: 1 if x=='flood' else 0)\n",
    "df.sample(5)"
   ]
  },
  {
   "cell_type": "code",
   "execution_count": 13,
   "metadata": {},
   "outputs": [],
   "source": [
    "def clean_text(text):\n",
    "    whitelist = set('abcdefghijklmnopqrstuvwxyz ABCDEFGHIJKLMNOPQRSTUVWXYZ1234567890')\n",
    "    cleaned_text = ''.join(filter(whitelist.__contains__, text))\n",
    "    return cleaned_text"
   ]
  },
  {
   "cell_type": "code",
   "execution_count": 14,
   "metadata": {},
   "outputs": [
    {
     "name": "stdout",
     "output_type": "stream",
     "text": [
      "<class 'pandas.core.series.Series'>\n"
     ]
    }
   ],
   "source": [
    "print(type(df['Content'][0]))"
   ]
  },
  {
   "cell_type": "code",
   "execution_count": 15,
   "metadata": {},
   "outputs": [
    {
     "data": {
      "text/html": [
       "<div>\n",
       "<style scoped>\n",
       "    .dataframe tbody tr th:only-of-type {\n",
       "        vertical-align: middle;\n",
       "    }\n",
       "\n",
       "    .dataframe tbody tr th {\n",
       "        vertical-align: top;\n",
       "    }\n",
       "\n",
       "    .dataframe thead th {\n",
       "        text-align: right;\n",
       "    }\n",
       "</style>\n",
       "<table border=\"1\" class=\"dataframe\">\n",
       "  <thead>\n",
       "    <tr style=\"text-align: right;\">\n",
       "      <th></th>\n",
       "      <th>Keyword</th>\n",
       "      <th>Content</th>\n",
       "      <th>label</th>\n",
       "      <th>flood</th>\n",
       "    </tr>\n",
       "  </thead>\n",
       "  <tbody>\n",
       "    <tr>\n",
       "      <th>45</th>\n",
       "      <td>Sylhet AND flood</td>\n",
       "      <td>Over 2 million people in Bangladesh have now b...</td>\n",
       "      <td>flood</td>\n",
       "      <td>1</td>\n",
       "    </tr>\n",
       "    <tr>\n",
       "      <th>8</th>\n",
       "      <td>Bangladesh AND Disaster</td>\n",
       "      <td>OfficialDGISPR 12 U should accept and express ...</td>\n",
       "      <td>no_flood</td>\n",
       "      <td>0</td>\n",
       "    </tr>\n",
       "    <tr>\n",
       "      <th>14</th>\n",
       "      <td>Bangladesh AND Accident</td>\n",
       "      <td>Congratulations Bangladesh for launching its f...</td>\n",
       "      <td>no_flood</td>\n",
       "      <td>0</td>\n",
       "    </tr>\n",
       "    <tr>\n",
       "      <th>21</th>\n",
       "      <td>Bangladesh AND Accident</td>\n",
       "      <td>Khokon who was on Sufia Kamal ferry was crushe...</td>\n",
       "      <td>no_flood</td>\n",
       "      <td>0</td>\n",
       "    </tr>\n",
       "    <tr>\n",
       "      <th>240</th>\n",
       "      <td>Sylhet AND flood</td>\n",
       "      <td>The worst flood in decades has hit Sylhet and ...</td>\n",
       "      <td>flood</td>\n",
       "      <td>1</td>\n",
       "    </tr>\n",
       "  </tbody>\n",
       "</table>\n",
       "</div>"
      ],
      "text/plain": [
       "                     Keyword  \\\n",
       "45          Sylhet AND flood   \n",
       "8    Bangladesh AND Disaster   \n",
       "14   Bangladesh AND Accident   \n",
       "21   Bangladesh AND Accident   \n",
       "240         Sylhet AND flood   \n",
       "\n",
       "                                               Content     label  flood  \n",
       "45   Over 2 million people in Bangladesh have now b...     flood      1  \n",
       "8    OfficialDGISPR 12 U should accept and express ...  no_flood      0  \n",
       "14   Congratulations Bangladesh for launching its f...  no_flood      0  \n",
       "21   Khokon who was on Sufia Kamal ferry was crushe...  no_flood      0  \n",
       "240  The worst flood in decades has hit Sylhet and ...     flood      1  "
      ]
     },
     "execution_count": 15,
     "metadata": {},
     "output_type": "execute_result"
    }
   ],
   "source": [
    "df.dropna(how='any', inplace=True)\n",
    "df['Content'] = df['Content'].apply(clean_text)\n",
    "df.sample(5)"
   ]
  },
  {
   "cell_type": "code",
   "execution_count": 16,
   "metadata": {},
   "outputs": [],
   "source": [
    "from sklearn.model_selection import train_test_split\n",
    "\n",
    "X_train, X_test, y_train, y_test = train_test_split(df['Content'],df['flood'], stratify=df['flood'])"
   ]
  },
  {
   "cell_type": "code",
   "execution_count": 17,
   "metadata": {},
   "outputs": [
    {
     "data": {
      "text/plain": [
       "227    nnPeople ride on a submerged road during a wid...\n",
       "215    The people of Bangladesh are angry for such ba...\n",
       "17     Accident Bangladesh  Changamwe road Ma3Route h...\n",
       "198    More than 15 million people in Sylhet district...\n",
       "82     I had made an appeal to Rohingya diaspora to s...\n",
       "Name: Content, dtype: object"
      ]
     },
     "execution_count": 17,
     "metadata": {},
     "output_type": "execute_result"
    }
   ],
   "source": [
    "X_train.head(5)"
   ]
  },
  {
   "cell_type": "code",
   "execution_count": 35,
   "metadata": {},
   "outputs": [
    {
     "data": {
      "text/plain": [
       "1    125\n",
       "0     44\n",
       "Name: flood, dtype: int64"
      ]
     },
     "execution_count": 35,
     "metadata": {},
     "output_type": "execute_result"
    }
   ],
   "source": [
    "y_train.value_counts()"
   ]
  },
  {
   "cell_type": "code",
   "execution_count": 36,
   "metadata": {},
   "outputs": [
    {
     "data": {
      "text/plain": [
       "1    42\n",
       "0    15\n",
       "Name: flood, dtype: int64"
      ]
     },
     "execution_count": 36,
     "metadata": {},
     "output_type": "execute_result"
    }
   ],
   "source": [
    "y_test.value_counts()"
   ]
  },
  {
   "cell_type": "code",
   "execution_count": 38,
   "metadata": {},
   "outputs": [
    {
     "data": {
      "text/html": [
       "<div>\n",
       "<style scoped>\n",
       "    .dataframe tbody tr th:only-of-type {\n",
       "        vertical-align: middle;\n",
       "    }\n",
       "\n",
       "    .dataframe tbody tr th {\n",
       "        vertical-align: top;\n",
       "    }\n",
       "\n",
       "    .dataframe thead th {\n",
       "        text-align: right;\n",
       "    }\n",
       "</style>\n",
       "<table border=\"1\" class=\"dataframe\">\n",
       "  <thead>\n",
       "    <tr style=\"text-align: right;\">\n",
       "      <th></th>\n",
       "      <th>label</th>\n",
       "      <th>Train_Count</th>\n",
       "      <th>Test_Count</th>\n",
       "    </tr>\n",
       "  </thead>\n",
       "  <tbody>\n",
       "    <tr>\n",
       "      <th>1</th>\n",
       "      <td>flood</td>\n",
       "      <td>125</td>\n",
       "      <td>42</td>\n",
       "    </tr>\n",
       "    <tr>\n",
       "      <th>0</th>\n",
       "      <td>no_flood</td>\n",
       "      <td>44</td>\n",
       "      <td>15</td>\n",
       "    </tr>\n",
       "  </tbody>\n",
       "</table>\n",
       "</div>"
      ],
      "text/plain": [
       "      label  Train_Count  Test_Count\n",
       "1     flood          125          42\n",
       "0  no_flood           44          15"
      ]
     },
     "execution_count": 38,
     "metadata": {},
     "output_type": "execute_result"
    }
   ],
   "source": [
    "dataset_info = pd.DataFrame({'label': class_names, 'Train_Count': y_train.value_counts(), 'Test_Count': y_test.value_counts()})\n",
    "dataset_info"
   ]
  },
  {
   "cell_type": "code",
   "execution_count": 39,
   "metadata": {},
   "outputs": [
    {
     "data": {
      "text/html": [
       "<div>\n",
       "<style scoped>\n",
       "    .dataframe tbody tr th:only-of-type {\n",
       "        vertical-align: middle;\n",
       "    }\n",
       "\n",
       "    .dataframe tbody tr th {\n",
       "        vertical-align: top;\n",
       "    }\n",
       "\n",
       "    .dataframe thead th {\n",
       "        text-align: right;\n",
       "    }\n",
       "</style>\n",
       "<table border=\"1\" class=\"dataframe\">\n",
       "  <thead>\n",
       "    <tr style=\"text-align: right;\">\n",
       "      <th></th>\n",
       "      <th>label</th>\n",
       "      <th>Split</th>\n",
       "      <th>Count</th>\n",
       "    </tr>\n",
       "  </thead>\n",
       "  <tbody>\n",
       "    <tr>\n",
       "      <th>0</th>\n",
       "      <td>flood</td>\n",
       "      <td>Train_Count</td>\n",
       "      <td>125</td>\n",
       "    </tr>\n",
       "    <tr>\n",
       "      <th>1</th>\n",
       "      <td>no_flood</td>\n",
       "      <td>Train_Count</td>\n",
       "      <td>44</td>\n",
       "    </tr>\n",
       "    <tr>\n",
       "      <th>2</th>\n",
       "      <td>flood</td>\n",
       "      <td>Test_Count</td>\n",
       "      <td>42</td>\n",
       "    </tr>\n",
       "    <tr>\n",
       "      <th>3</th>\n",
       "      <td>no_flood</td>\n",
       "      <td>Test_Count</td>\n",
       "      <td>15</td>\n",
       "    </tr>\n",
       "  </tbody>\n",
       "</table>\n",
       "</div>"
      ],
      "text/plain": [
       "      label        Split  Count\n",
       "0     flood  Train_Count    125\n",
       "1  no_flood  Train_Count     44\n",
       "2     flood   Test_Count     42\n",
       "3  no_flood   Test_Count     15"
      ]
     },
     "execution_count": 39,
     "metadata": {},
     "output_type": "execute_result"
    }
   ],
   "source": [
    "df_info = pd.melt(dataset_info, id_vars='label', var_name='Split', value_name=\"Count\")\n",
    "df_info"
   ]
  },
  {
   "cell_type": "code",
   "execution_count": 41,
   "metadata": {},
   "outputs": [
    {
     "data": {
      "text/plain": [
       "<Figure size 1440x576 with 0 Axes>"
      ]
     },
     "metadata": {},
     "output_type": "display_data"
    },
    {
     "data": {
      "image/png": "[encoded data removed]",
      "text/plain": [
       "<Figure size 1174.5x720 with 1 Axes>"
      ]
     },
     "metadata": {
      "needs_background": "light"
     },
     "output_type": "display_data"
    }
   ],
   "source": [
    "plt.figure(figsize=(20, 8))\n",
    "\n",
    "g = sns.catplot(\n",
    "    data=df_info, kind='bar',\n",
    "    x='label', y='Count', hue='Split', palette='Set2', height=10, aspect=1.5)\n",
    "\n",
    "plt.xticks(rotation=45)\n",
    "g.set_axis_labels('label', 'Count')\n",
    "g.legend.set_title('Splited Dataset')"
   ]
  },
  {
   "cell_type": "code",
   "execution_count": 18,
   "metadata": {},
   "outputs": [],
   "source": [
    "bert_preprocess = hub.KerasLayer(\"https://tfhub.dev/tensorflow/bert_en_uncased_preprocess/3\")\n",
    "bert_encoder = hub.KerasLayer(\"https://tfhub.dev/tensorflow/bert_en_uncased_L-12_H-768_A-12/4\")"
   ]
  },
  {
   "cell_type": "code",
   "execution_count": 19,
   "metadata": {},
   "outputs": [],
   "source": [
    "# Bert layers\n",
    "text_input = tf.keras.layers.Input(shape=(), dtype=tf.string, name='text')\n",
    "preprocessed_text = bert_preprocess(text_input)\n",
    "outputs = bert_encoder(preprocessed_text)\n",
    "\n",
    "# Neural network layers\n",
    "l = tf.keras.layers.Dropout(0.1, name=\"dropout\")(outputs['pooled_output'])\n",
    "l = tf.keras.layers.Dense(1, activation='sigmoid', name=\"output\")(l)\n",
    "\n",
    "# Use inputs and outputs to construct a final model\n",
    "model = tf.keras.Model(inputs=[text_input], outputs = [l])"
   ]
  },
  {
   "cell_type": "code",
   "execution_count": 20,
   "metadata": {},
   "outputs": [
    {
     "name": "stdout",
     "output_type": "stream",
     "text": [
      "Model: \"model\"\n",
      "__________________________________________________________________________________________________\n",
      " Layer (type)                   Output Shape         Param #     Connected to                     \n",
      "==================================================================================================\n",
      " text (InputLayer)              [(None,)]            0           []                               \n",
      "                                                                                                  \n",
      " keras_layer (KerasLayer)       {'input_word_ids':   0           ['text[0][0]']                   \n",
      "                                (None, 128),                                                      \n",
      "                                 'input_type_ids':                                                \n",
      "                                (None, 128),                                                      \n",
      "                                 'input_mask': (Non                                               \n",
      "                                e, 128)}                                                          \n",
      "                                                                                                  \n",
      " keras_layer_1 (KerasLayer)     {'pooled_output': (  109482241   ['keras_layer[0][0]',            \n",
      "                                None, 768),                       'keras_layer[0][1]',            \n",
      "                                 'sequence_output':               'keras_layer[0][2]']            \n",
      "                                 (None, 128, 768),                                                \n",
      "                                 'default': (None,                                                \n",
      "                                768),                                                             \n",
      "                                 'encoder_outputs':                                               \n",
      "                                 [(None, 128, 768),                                               \n",
      "                                 (None, 128, 768),                                                \n",
      "                                 (None, 128, 768),                                                \n",
      "                                 (None, 128, 768),                                                \n",
      "                                 (None, 128, 768),                                                \n",
      "                                 (None, 128, 768),                                                \n",
      "                                 (None, 128, 768),                                                \n",
      "                                 (None, 128, 768),                                                \n",
      "                                 (None, 128, 768),                                                \n",
      "                                 (None, 128, 768),                                                \n",
      "                                 (None, 128, 768),                                                \n",
      "                                 (None, 128, 768)]}                                               \n",
      "                                                                                                  \n",
      " dropout (Dropout)              (None, 768)          0           ['keras_layer_1[0][13]']         \n",
      "                                                                                                  \n",
      " output (Dense)                 (None, 1)            769         ['dropout[0][0]']                \n",
      "                                                                                                  \n",
      "==================================================================================================\n",
      "Total params: 109,483,010\n",
      "Trainable params: 769\n",
      "Non-trainable params: 109,482,241\n",
      "__________________________________________________________________________________________________\n"
     ]
    }
   ],
   "source": [
    "model.summary()"
   ]
  },
  {
   "cell_type": "code",
   "execution_count": 21,
   "metadata": {},
   "outputs": [],
   "source": [
    "METRICS = [\n",
    "      tf.keras.metrics.BinaryAccuracy(name='accuracy'),\n",
    "      tf.keras.metrics.Precision(name='precision')\n",
    "]\n",
    "\n",
    "model.compile(optimizer='adam', loss='binary_crossentropy', metrics=METRICS)"
   ]
  },
  {
   "cell_type": "code",
   "execution_count": 22,
   "metadata": {},
   "outputs": [],
   "source": [
    "# X_train = np.asarray(X_train).astype(np.float32)\n",
    "# y_train = np.asarray(y_train).astype(np.float32)"
   ]
  },
  {
   "cell_type": "code",
   "execution_count": 23,
   "metadata": {},
   "outputs": [
    {
     "name": "stdout",
     "output_type": "stream",
     "text": [
      "You must install pydot (`pip install pydot`) and install graphviz (see instructions at https://graphviz.gitlab.io/download/) for plot_model/model_to_dot to work.\n"
     ]
    }
   ],
   "source": [
    "from tensorflow import keras\n",
    "\n",
    "keras.utils.plot_model(model, show_shapes=True)"
   ]
  },
  {
   "cell_type": "code",
   "execution_count": 24,
   "metadata": {},
   "outputs": [
    {
     "name": "stdout",
     "output_type": "stream",
     "text": [
      "Epoch 1/50\n",
      "6/6 [==============================] - 13s 696ms/step - loss: 0.6696 - accuracy: 0.5976 - precision: 0.7355\n",
      "Epoch 2/50\n",
      "6/6 [==============================] - 4s 712ms/step - loss: 0.6185 - accuracy: 0.7396 - precision: 0.7396\n",
      "Epoch 3/50\n",
      "6/6 [==============================] - 5s 734ms/step - loss: 0.5753 - accuracy: 0.7396 - precision: 0.7396\n",
      "Epoch 4/50\n",
      "6/6 [==============================] - 4s 725ms/step - loss: 0.5576 - accuracy: 0.7396 - precision: 0.7396\n",
      "Epoch 5/50\n",
      "6/6 [==============================] - 5s 738ms/step - loss: 0.5306 - accuracy: 0.7574 - precision: 0.7530\n",
      "Epoch 6/50\n",
      "6/6 [==============================] - 5s 738ms/step - loss: 0.5302 - accuracy: 0.7456 - precision: 0.7440\n",
      "Epoch 7/50\n",
      "6/6 [==============================] - 5s 757ms/step - loss: 0.5127 - accuracy: 0.7456 - precision: 0.7440\n",
      "Epoch 8/50\n",
      "6/6 [==============================] - 5s 745ms/step - loss: 0.5147 - accuracy: 0.7811 - precision: 0.7716\n",
      "Epoch 9/50\n",
      "6/6 [==============================] - 5s 743ms/step - loss: 0.4961 - accuracy: 0.7574 - precision: 0.7530\n",
      "Epoch 10/50\n",
      "6/6 [==============================] - 5s 758ms/step - loss: 0.5057 - accuracy: 0.7811 - precision: 0.7716\n",
      "Epoch 11/50\n",
      "6/6 [==============================] - 5s 747ms/step - loss: 0.4897 - accuracy: 0.7811 - precision: 0.7716\n",
      "Epoch 12/50\n",
      "6/6 [==============================] - 5s 761ms/step - loss: 0.5087 - accuracy: 0.7515 - precision: 0.7578\n",
      "Epoch 13/50\n",
      "6/6 [==============================] - 5s 758ms/step - loss: 0.4862 - accuracy: 0.7692 - precision: 0.7622\n",
      "Epoch 14/50\n",
      "6/6 [==============================] - 5s 765ms/step - loss: 0.4680 - accuracy: 0.8107 - precision: 0.8079\n",
      "Epoch 15/50\n",
      "6/6 [==============================] - 5s 769ms/step - loss: 0.4561 - accuracy: 0.8107 - precision: 0.8079\n",
      "Epoch 16/50\n",
      "6/6 [==============================] - 5s 767ms/step - loss: 0.4772 - accuracy: 0.7988 - precision: 0.7898\n",
      "Epoch 17/50\n",
      "6/6 [==============================] - 5s 777ms/step - loss: 0.4480 - accuracy: 0.8107 - precision: 0.8039\n",
      "Epoch 18/50\n",
      "6/6 [==============================] - 5s 782ms/step - loss: 0.4472 - accuracy: 0.8166 - precision: 0.8133\n",
      "Epoch 19/50\n",
      "6/6 [==============================] - 5s 772ms/step - loss: 0.4461 - accuracy: 0.8462 - precision: 0.8414\n",
      "Epoch 20/50\n",
      "6/6 [==============================] - 5s 737ms/step - loss: 0.4549 - accuracy: 0.7988 - precision: 0.7974\n",
      "Epoch 21/50\n",
      "6/6 [==============================] - 5s 750ms/step - loss: 0.4573 - accuracy: 0.7811 - precision: 0.7785\n",
      "Epoch 22/50\n",
      "6/6 [==============================] - 5s 737ms/step - loss: 0.4461 - accuracy: 0.8047 - precision: 0.7987\n",
      "Epoch 23/50\n",
      "6/6 [==============================] - 5s 739ms/step - loss: 0.4463 - accuracy: 0.8166 - precision: 0.8052\n",
      "Epoch 24/50\n",
      "6/6 [==============================] - 5s 750ms/step - loss: 0.4399 - accuracy: 0.8284 - precision: 0.8158\n",
      "Epoch 25/50\n",
      "6/6 [==============================] - 5s 750ms/step - loss: 0.4259 - accuracy: 0.8462 - precision: 0.8462\n",
      "Epoch 26/50\n",
      "6/6 [==============================] - 5s 778ms/step - loss: 0.4223 - accuracy: 0.8284 - precision: 0.8243\n",
      "Epoch 27/50\n",
      "6/6 [==============================] - 5s 782ms/step - loss: 0.4304 - accuracy: 0.8462 - precision: 0.8322\n",
      "Epoch 28/50\n",
      "6/6 [==============================] - 5s 770ms/step - loss: 0.4407 - accuracy: 0.8225 - precision: 0.8188\n",
      "Epoch 29/50\n",
      "6/6 [==============================] - 5s 759ms/step - loss: 0.4308 - accuracy: 0.8580 - precision: 0.8582\n",
      "Epoch 30/50\n",
      "6/6 [==============================] - 5s 753ms/step - loss: 0.4192 - accuracy: 0.8580 - precision: 0.8633\n",
      "Epoch 31/50\n",
      "6/6 [==============================] - 5s 760ms/step - loss: 0.4160 - accuracy: 0.8402 - precision: 0.8267\n",
      "Epoch 32/50\n",
      "6/6 [==============================] - 5s 748ms/step - loss: 0.4260 - accuracy: 0.8284 - precision: 0.8117\n",
      "Epoch 33/50\n",
      "6/6 [==============================] - 5s 764ms/step - loss: 0.4266 - accuracy: 0.8580 - precision: 0.8633\n",
      "Epoch 34/50\n",
      "6/6 [==============================] - 5s 780ms/step - loss: 0.4147 - accuracy: 0.8402 - precision: 0.8657\n",
      "Epoch 35/50\n",
      "6/6 [==============================] - 5s 761ms/step - loss: 0.3988 - accuracy: 0.8639 - precision: 0.8542\n",
      "Epoch 36/50\n",
      "6/6 [==============================] - 5s 765ms/step - loss: 0.4231 - accuracy: 0.8521 - precision: 0.8378\n",
      "Epoch 37/50\n",
      "6/6 [==============================] - 5s 761ms/step - loss: 0.4235 - accuracy: 0.8107 - precision: 0.8079\n",
      "Epoch 38/50\n",
      "6/6 [==============================] - 5s 769ms/step - loss: 0.4043 - accuracy: 0.8343 - precision: 0.8255\n",
      "Epoch 39/50\n",
      "6/6 [==============================] - 5s 771ms/step - loss: 0.4051 - accuracy: 0.8521 - precision: 0.8521\n",
      "Epoch 40/50\n",
      "6/6 [==============================] - 5s 768ms/step - loss: 0.3857 - accuracy: 0.8757 - precision: 0.8714\n",
      "Epoch 41/50\n",
      "6/6 [==============================] - 5s 771ms/step - loss: 0.4019 - accuracy: 0.8402 - precision: 0.8267\n",
      "Epoch 42/50\n",
      "6/6 [==============================] - 5s 777ms/step - loss: 0.4019 - accuracy: 0.8343 - precision: 0.8299\n",
      "Epoch 43/50\n",
      "6/6 [==============================] - 5s 785ms/step - loss: 0.3965 - accuracy: 0.8521 - precision: 0.8521\n",
      "Epoch 44/50\n",
      "6/6 [==============================] - 5s 761ms/step - loss: 0.3949 - accuracy: 0.8521 - precision: 0.8571\n",
      "Epoch 45/50\n",
      "6/6 [==============================] - 5s 765ms/step - loss: 0.3857 - accuracy: 0.8639 - precision: 0.8446\n",
      "Epoch 46/50\n",
      "6/6 [==============================] - 5s 770ms/step - loss: 0.3726 - accuracy: 0.8462 - precision: 0.8278\n",
      "Epoch 47/50\n",
      "6/6 [==============================] - 5s 782ms/step - loss: 0.3700 - accuracy: 0.8521 - precision: 0.8378\n",
      "Epoch 48/50\n",
      "6/6 [==============================] - 5s 785ms/step - loss: 0.3767 - accuracy: 0.8817 - precision: 0.8947\n",
      "Epoch 49/50\n",
      "6/6 [==============================] - 5s 781ms/step - loss: 0.3822 - accuracy: 0.8580 - precision: 0.8582\n",
      "Epoch 50/50\n",
      "6/6 [==============================] - 5s 791ms/step - loss: 0.3634 - accuracy: 0.8757 - precision: 0.8611\n"
     ]
    }
   ],
   "source": [
    "history = model.fit(X_train, y_train, epochs=50)"
   ]
  },
  {
   "cell_type": "code",
   "execution_count": 26,
   "metadata": {},
   "outputs": [
    {
     "data": {
      "image/png": "[encoded data removed]",
      "text/plain": [
       "<Figure size 1152x576 with 1 Axes>"
      ]
     },
     "metadata": {
      "needs_background": "light"
     },
     "output_type": "display_data"
    }
   ],
   "source": [
    "acc = history.history['accuracy']\n",
    "\n",
    "loss = history.history['loss']\n",
    "\n",
    "plt.figure(figsize=(16, 8))\n",
    "plt.plot(acc, label='Training Accuracy')\n",
    "plt.plot(loss, label='Training Loss')\n",
    "plt.legend(loc='lower right')\n",
    "plt.ylim([0,1.0])\n",
    "plt.title('Training Accuracy vs Training Loss')\n",
    "\n",
    "plt.title('Training and Validation Loss')\n",
    "plt.xlabel('epoch')\n",
    "plt.show()"
   ]
  },
  {
   "cell_type": "code",
   "execution_count": 43,
   "metadata": {},
   "outputs": [],
   "source": [
    "# model.save(r'D:\\NSU\\GitHub Repository\\Flood_Assessment\\model_train\\text_model')\n",
    "model.save(r'D:\\NSU\\GitHub Repository\\Flood_Assessment\\model_train\\text_model.h5')"
   ]
  },
  {
   "cell_type": "code",
   "execution_count": 30,
   "metadata": {},
   "outputs": [
    {
     "name": "stdout",
     "output_type": "stream",
     "text": [
      "2/2 [==============================] - 2s 620ms/step - loss: 0.4227 - accuracy: 0.7895 - precision: 0.7778\n"
     ]
    },
    {
     "data": {
      "text/plain": [
       "[0.4227389395236969, 0.7894737124443054, 0.7777777910232544]"
      ]
     },
     "execution_count": 30,
     "metadata": {},
     "output_type": "execute_result"
    }
   ],
   "source": [
    "model.evaluate(X_test, y_test)"
   ]
  },
  {
   "cell_type": "code",
   "execution_count": 31,
   "metadata": {},
   "outputs": [
    {
     "name": "stdout",
     "output_type": "stream",
     "text": [
      "2/2 [==============================] - 2s 769ms/step\n"
     ]
    }
   ],
   "source": [
    "y_predicted = model.predict(X_test)\n",
    "y_predicted = y_predicted.flatten()\n",
    "y_predicted = np.where(y_predicted > 0.5, 1, 0)"
   ]
  },
  {
   "cell_type": "code",
   "execution_count": 32,
   "metadata": {},
   "outputs": [
    {
     "name": "stdout",
     "output_type": "stream",
     "text": [
      "              precision    recall  f1-score   support\n",
      "\n",
      "       flood       1.00      0.20      0.33        15\n",
      "    no_flood       0.78      1.00      0.88        42\n",
      "\n",
      "    accuracy                           0.79        57\n",
      "   macro avg       0.89      0.60      0.60        57\n",
      "weighted avg       0.84      0.79      0.73        57\n",
      "\n"
     ]
    }
   ],
   "source": [
    "from sklearn.metrics import classification_report\n",
    "print(classification_report(y_test, y_predicted, target_names=class_names))"
   ]
  },
  {
   "cell_type": "code",
   "execution_count": 33,
   "metadata": {},
   "outputs": [
    {
     "data": {
      "image/png": "[encoded data removed]",
      "text/plain": [
       "<Figure size 720x648 with 1 Axes>"
      ]
     },
     "metadata": {
      "needs_background": "light"
     },
     "output_type": "display_data"
    }
   ],
   "source": [
    "import seaborn as sns\n",
    "from sklearn.metrics import confusion_matrix\n",
    "\n",
    "cm = confusion_matrix(y_test, y_predicted)\n",
    "\n",
    "plt.figure(figsize=(10,9))\n",
    "sns.heatmap(cm, annot=True, square=True, xticklabels=class_names, yticklabels=class_names, fmt='d',\n",
    "           cmap=plt.cm.Blues, cbar=False)\n",
    "plt.ylabel('True Labels', fontsize=12)\n",
    "plt.xlabel('Predicted Labels', fontsize=12)\n",
    "plt.show()"
   ]
  }
 ],
 "metadata": {
  "kernelspec": {
   "display_name": "Python 3.9.12 ('base')",
   "language": "python",
   "name": "python3"
  },
  "language_info": {
   "codemirror_mode": {
    "name": "ipython",
    "version": 3
   },
   "file_extension": ".py",
   "mimetype": "text/x-python",
   "name": "python",
   "nbconvert_exporter": "python",
   "pygments_lexer": "ipython3",
   "version": "3.9.12"
  },
  "orig_nbformat": 4,
  "vscode": {
   "interpreter": {
    "hash": "7185d61c927ddfb37d1dd8c83ef96f8f112620be1468d632fb729d0423a9e939"
   }
  }
 },
 "nbformat": 4,
 "nbformat_minor": 2
}
